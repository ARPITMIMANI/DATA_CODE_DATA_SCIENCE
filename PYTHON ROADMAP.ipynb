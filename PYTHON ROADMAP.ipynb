{
 "cells": [
  {
   "cell_type": "code",
   "execution_count": 1,
   "id": "69c43923",
   "metadata": {},
   "outputs": [
    {
     "data": {
      "text/plain": [
       "'\\n\\nWHY PYTHON FOR DATA SCIENCE ?\\n\\nPYTHON HAS A IN BUILT POWERFUL MATHEMATICAL LIBRARY , IN BUILT FUNCTIONS , \\nEASILY DO CALCULATION OF CRITICAL MATH PROBLEM , PERFORM POWERFUL DATA ANALYSIS . \\n\\n\\nLIBRARIES OF PYTHON:\\n\\n1. PANDAS : IT IS USED FOR STRUCTURED DATA OPERATION LIKE IMPORT CSV , SQL , EXCEL , JSON OR ANY DATABASE .\\n\\n2. NUMPY : IT IS USED FOR POWERFUL MATHEMATICAL PROBLEMS . IT STANDS FOR NUMERICAL PYTHON .\\n\\n3. MATPLOTLIB : IT IS USED FOR VISUALIZATION OF DATA .\\n\\n4. SCIPY : IT CONTAINS LINEAR ALGEBRA MODULES . IT STANDS FOR SCIENTIFIC PYTHON .\\n\\n'"
      ]
     },
     "execution_count": 1,
     "metadata": {},
     "output_type": "execute_result"
    }
   ],
   "source": [
    "\"\"\"\n",
    "\n",
    "WHY PYTHON FOR DATA SCIENCE ?\n",
    "\n",
    "PYTHON HAS A IN BUILT POWERFUL MATHEMATICAL LIBRARY , IN BUILT FUNCTIONS , \n",
    "EASILY DO CALCULATION OF CRITICAL MATH PROBLEM , PERFORM POWERFUL DATA ANALYSIS . \n",
    "\n",
    "\n",
    "LIBRARIES OF PYTHON:\n",
    "\n",
    "1. PANDAS : IT IS USED FOR STRUCTURED DATA OPERATION LIKE IMPORT CSV , SQL , EXCEL , JSON OR ANY DATABASE .\n",
    "\n",
    "2. NUMPY : IT IS USED FOR POWERFUL MATHEMATICAL PROBLEMS . IT STANDS FOR NUMERICAL PYTHON .\n",
    "\n",
    "3. MATPLOTLIB : IT IS USED FOR VISUALIZATION OF DATA .\n",
    "\n",
    "4. SCIPY : IT CONTAINS LINEAR ALGEBRA MODULES . IT STANDS FOR SCIENTIFIC PYTHON .\n",
    "\n",
    "\"\"\""
   ]
  },
  {
   "cell_type": "code",
   "execution_count": null,
   "id": "144ade48",
   "metadata": {},
   "outputs": [],
   "source": []
  }
 ],
 "metadata": {
  "kernelspec": {
   "display_name": "Python 3 (ipykernel)",
   "language": "python",
   "name": "python3"
  },
  "language_info": {
   "codemirror_mode": {
    "name": "ipython",
    "version": 3
   },
   "file_extension": ".py",
   "mimetype": "text/x-python",
   "name": "python",
   "nbconvert_exporter": "python",
   "pygments_lexer": "ipython3",
   "version": "3.10.9"
  }
 },
 "nbformat": 4,
 "nbformat_minor": 5
}
