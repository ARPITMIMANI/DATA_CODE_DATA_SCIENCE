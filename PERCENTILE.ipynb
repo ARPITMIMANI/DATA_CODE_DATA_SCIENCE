{
 "cells": [
  {
   "cell_type": "code",
   "execution_count": 1,
   "id": "1ce5d9c0",
   "metadata": {},
   "outputs": [
    {
     "name": "stdout",
     "output_type": "stream",
     "text": [
      "   Duration  Average_Pulse  Max_Pulse  Calorie_Burnage  Hours_Work  Hours_Sleep\n",
      "0        30             80        120              240          10            7\n",
      "1        30             85        120              250          10            7\n",
      "2        45             90        130              260           8            7\n",
      "3        45             95        130              270           8            7\n",
      "4        45            100        140              280           0            7\n",
      "5        60            105        140              290           7            8\n",
      "6        60            110        145              300           7            8\n",
      "7        60            115        145              310           8            8\n",
      "8        75            120        150              320           0            8\n",
      "9        75            125        150              330           8            8\n"
     ]
    }
   ],
   "source": [
    "# STATISTICS : IT MEANS A SCIENCE OF ANALYSING DATA .\n",
    "# STATISTICS 2 TYPES : DESCRIPTIVE STATISTICS AND INFERENTIAL STATISTICS .\n",
    "\n",
    "# LOAD THE DATA FROM THE CSV FILE \"EXERCISE_DATA.csv\" INTO THE DATAFRAME .\n",
    "\n",
    "import pandas as pd \n",
    "xx = pd.read_csv ( \"EXERCISE_DATA.csv\" , header=0 , sep=\",\" )\n",
    "print ( xx.to_string() )"
   ]
  },
  {
   "cell_type": "code",
   "execution_count": 2,
   "id": "bf4f6657",
   "metadata": {},
   "outputs": [
    {
     "name": "stdout",
     "output_type": "stream",
     "text": [
      "        Duration  Average_Pulse   Max_Pulse  Calorie_Burnage  Hours_Work  \\\n",
      "count  10.000000      10.000000   10.000000        10.000000   10.000000   \n",
      "mean   52.500000     102.500000  137.000000       285.000000    6.600000   \n",
      "std    16.201852      15.138252   11.352924        30.276504    3.627059   \n",
      "min    30.000000      80.000000  120.000000       240.000000    0.000000   \n",
      "25%    45.000000      91.250000  130.000000       262.500000    7.000000   \n",
      "50%    52.500000     102.500000  140.000000       285.000000    8.000000   \n",
      "75%    60.000000     113.750000  145.000000       307.500000    8.000000   \n",
      "max    75.000000     125.000000  150.000000       330.000000   10.000000   \n",
      "\n",
      "       Hours_Sleep  \n",
      "count    10.000000  \n",
      "mean      7.500000  \n",
      "std       0.527046  \n",
      "min       7.000000  \n",
      "25%       7.000000  \n",
      "50%       7.500000  \n",
      "75%       8.000000  \n",
      "max       8.000000  \n"
     ]
    }
   ],
   "source": [
    "# describe() IS USED FOR SUMMARIZING DATA IN THE DATAFRAME .\n",
    "\n",
    "import pandas as pd \n",
    "xx = pd.read_csv ( \"EXERCISE_DATA.csv\" , header=0 , sep=\",\" )\n",
    "print ( xx.describe() )"
   ]
  },
  {
   "cell_type": "code",
   "execution_count": 3,
   "id": "16a35729",
   "metadata": {},
   "outputs": [
    {
     "name": "stdout",
     "output_type": "stream",
     "text": [
      "120.0\n"
     ]
    }
   ],
   "source": [
    "# CALCULATE THE 10% PERCENTILE FOR \"Max_Pulse\" .\n",
    "\n",
    "import pandas as pd\n",
    "import numpy as np\n",
    "xx = pd.read_csv ( \"EXERCISE_DATA.csv\" , header=0 , sep=\",\" )\n",
    "yy = xx[\"Max_Pulse\"]\n",
    "zz = np.percentile ( yy , 10 )\n",
    "print(zz)"
   ]
  },
  {
   "cell_type": "code",
   "execution_count": null,
   "id": "e246c43f",
   "metadata": {},
   "outputs": [],
   "source": []
  }
 ],
 "metadata": {
  "kernelspec": {
   "display_name": "Python 3 (ipykernel)",
   "language": "python",
   "name": "python3"
  },
  "language_info": {
   "codemirror_mode": {
    "name": "ipython",
    "version": 3
   },
   "file_extension": ".py",
   "mimetype": "text/x-python",
   "name": "python",
   "nbconvert_exporter": "python",
   "pygments_lexer": "ipython3",
   "version": "3.10.9"
  }
 },
 "nbformat": 4,
 "nbformat_minor": 5
}
