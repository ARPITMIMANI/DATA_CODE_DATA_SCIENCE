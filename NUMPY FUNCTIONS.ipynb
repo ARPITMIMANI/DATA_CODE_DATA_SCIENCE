{
 "cells": [
  {
   "cell_type": "code",
   "execution_count": 1,
   "id": "a5884ed3",
   "metadata": {},
   "outputs": [
    {
     "name": "stdout",
     "output_type": "stream",
     "text": [
      "78.0\n"
     ]
    }
   ],
   "source": [
    "# MOST COMMONLY USED FUNCTION IN DATA SCIENCE : median() , min() , max() , mean() , sum() , stdev() , len() .\n",
    "\n",
    "# median() IS THE MIDDLE VALUE OF AN ARRAY .\n",
    "\n",
    "import numpy as np\n",
    "xyz = [72,88,68,92,60,80,96,64,84,76]\n",
    "median_xyz = np.median(xyz)\n",
    "print ( median_xyz )"
   ]
  },
  {
   "cell_type": "code",
   "execution_count": 2,
   "id": "dd51406a",
   "metadata": {},
   "outputs": [
    {
     "name": "stdout",
     "output_type": "stream",
     "text": [
      "60\n"
     ]
    }
   ],
   "source": [
    "# min() IS THE LOWEST VALUE OF AN ARRAY .\n",
    "\n",
    "import numpy as np\n",
    "xyz = [72,88,68,92,60,80,96,64,84,76]\n",
    "min_xyz = np.min(xyz)\n",
    "print (min_xyz )"
   ]
  },
  {
   "cell_type": "code",
   "execution_count": 3,
   "id": "1fb9433b",
   "metadata": {},
   "outputs": [
    {
     "name": "stdout",
     "output_type": "stream",
     "text": [
      "96\n"
     ]
    }
   ],
   "source": [
    "# max() IS THE HIGHEST VALUE OF AN ARRAY .\n",
    "\n",
    "import numpy as np\n",
    "xyz = [72,88,68,92,60,80,96,64,84,76]\n",
    "max_xyz = np.max(xyz)\n",
    "print ( max_xyz )"
   ]
  },
  {
   "cell_type": "code",
   "execution_count": 4,
   "id": "5c7a5587",
   "metadata": {},
   "outputs": [
    {
     "name": "stdout",
     "output_type": "stream",
     "text": [
      "78.0\n"
     ]
    }
   ],
   "source": [
    "# mean() IS THE AVERAGE VALUE IN AN ARRAY .\n",
    "\n",
    "import numpy as np\n",
    "xyz = [72,88,68,92,60,80,96,64,84,76]\n",
    "mean_xyz = np.mean(xyz)\n",
    "print ( mean_xyz )"
   ]
  },
  {
   "cell_type": "code",
   "execution_count": 5,
   "id": "f9a52d77",
   "metadata": {},
   "outputs": [
    {
     "name": "stdout",
     "output_type": "stream",
     "text": [
      "780\n"
     ]
    }
   ],
   "source": [
    "# sum() IS THE TOTAL VALUE OF AN ARRAY .\n",
    "\n",
    "import numpy as np\n",
    "xyz = [72,88,68,92,60,80,96,64,84,76]\n",
    "sum_xyz = np.sum(xyz)\n",
    "print ( sum_xyz )"
   ]
  },
  {
   "cell_type": "code",
   "execution_count": 6,
   "id": "4e88362c",
   "metadata": {},
   "outputs": [
    {
     "name": "stdout",
     "output_type": "stream",
     "text": [
      "12.110601416389967\n"
     ]
    }
   ],
   "source": [
    "# stdev() IS THE DISPERSED VALUE IN RELATION TO THE MEAN VALUE .\n",
    "\n",
    "import numpy as np\n",
    "import statistics\n",
    "xyz = [72,88,68,92,60,80,96,64,84,76]\n",
    "stdev_xyz = statistics.stdev(xyz)\n",
    "print ( stdev_xyz )"
   ]
  },
  {
   "cell_type": "code",
   "execution_count": 7,
   "id": "dcebd5fc",
   "metadata": {},
   "outputs": [
    {
     "name": "stdout",
     "output_type": "stream",
     "text": [
      "10\n"
     ]
    }
   ],
   "source": [
    "# len()\n",
    "\n",
    "xyz = len([72,88,68,92,60,80,96,64,84,76])\n",
    "print(xyz)"
   ]
  },
  {
   "cell_type": "code",
   "execution_count": 8,
   "id": "a51c2d11",
   "metadata": {},
   "outputs": [
    {
     "name": "stdout",
     "output_type": "stream",
     "text": [
      "60\n"
     ]
    }
   ],
   "source": [
    "# min()\n",
    "\n",
    "xyz = min(72,88,68,92,60,80,96,64,84,76)\n",
    "print(xyz)"
   ]
  },
  {
   "cell_type": "code",
   "execution_count": 9,
   "id": "6c689a6c",
   "metadata": {},
   "outputs": [
    {
     "name": "stdout",
     "output_type": "stream",
     "text": [
      "96\n"
     ]
    }
   ],
   "source": [
    "# max()\n",
    "\n",
    "xyz = max(72,88,68,92,60,80,96,64,84,76)\n",
    "print(xyz)"
   ]
  },
  {
   "cell_type": "code",
   "execution_count": 10,
   "id": "9bbda75c",
   "metadata": {},
   "outputs": [
    {
     "name": "stdout",
     "output_type": "stream",
     "text": [
      "60\n"
     ]
    }
   ],
   "source": [
    "# min()\n",
    "\n",
    "xyz = min([72,88,68,92,60,80,96,64,84,76])\n",
    "print(xyz)"
   ]
  },
  {
   "cell_type": "code",
   "execution_count": 11,
   "id": "54014060",
   "metadata": {},
   "outputs": [
    {
     "name": "stdout",
     "output_type": "stream",
     "text": [
      "96\n"
     ]
    }
   ],
   "source": [
    "# max()\n",
    "\n",
    "xyz = max([72,88,68,92,60,80,96,64,84,76])\n",
    "print(xyz)"
   ]
  },
  {
   "cell_type": "code",
   "execution_count": 12,
   "id": "af4e3994",
   "metadata": {},
   "outputs": [
    {
     "name": "stdout",
     "output_type": "stream",
     "text": [
      "780\n"
     ]
    }
   ],
   "source": [
    "# sum()\n",
    "\n",
    "xyz = sum([72,88,68,92,60,80,96,64,84,76])\n",
    "print(xyz)"
   ]
  },
  {
   "cell_type": "code",
   "execution_count": null,
   "id": "8500d148",
   "metadata": {},
   "outputs": [],
   "source": []
  }
 ],
 "metadata": {
  "kernelspec": {
   "display_name": "Python 3 (ipykernel)",
   "language": "python",
   "name": "python3"
  },
  "language_info": {
   "codemirror_mode": {
    "name": "ipython",
    "version": 3
   },
   "file_extension": ".py",
   "mimetype": "text/x-python",
   "name": "python",
   "nbconvert_exporter": "python",
   "pygments_lexer": "ipython3",
   "version": "3.10.9"
  }
 },
 "nbformat": 4,
 "nbformat_minor": 5
}
