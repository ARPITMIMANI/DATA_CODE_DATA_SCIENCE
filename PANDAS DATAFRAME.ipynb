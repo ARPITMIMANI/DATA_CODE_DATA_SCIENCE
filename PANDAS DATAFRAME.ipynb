{
 "cells": [
  {
   "cell_type": "code",
   "execution_count": 1,
   "id": "00338974",
   "metadata": {},
   "outputs": [
    {
     "name": "stdout",
     "output_type": "stream",
     "text": [
      "    A   B  A*B\n",
      "0  12  30  360\n",
      "1  14  28  392\n",
      "2  16  26  416\n",
      "3  18  24  432\n",
      "4  20  22  440\n"
     ]
    }
   ],
   "source": [
    "# CREATE A DATAFRAME WITH 3 COLUMNS AND 5 ROWS .\n",
    "\n",
    "import pandas as pd\n",
    "ww = { \"A\" : [12,14,16,18,20]  , \"B\" : [30,28,26,24,22] , \"A*B\" : [360,392,416,432,440] }\n",
    "xx = pd.DataFrame ( data=ww )\n",
    "print(xx)"
   ]
  },
  {
   "cell_type": "code",
   "execution_count": 2,
   "id": "c0d10c2d",
   "metadata": {},
   "outputs": [
    {
     "name": "stdout",
     "output_type": "stream",
     "text": [
      "      A   B  A*B\n",
      "MON  12  30  360\n",
      "TUE  14  28  392\n",
      "WED  16  26  416\n",
      "THU  18  24  432\n",
      "FRI  20  22  440\n"
     ]
    }
   ],
   "source": [
    "import pandas as pd\n",
    "ww = { \"A\" : [12,14,16,18,20]  , \"B\" : [30,28,26,24,22] , \"A*B\" : [360,392,416,432,440] }\n",
    "xx = pd.DataFrame ( data=ww , index=[ \"MON\" , \"TUE\" , \"WED\" , \"THU\" , \"FRI\" ])\n",
    "print(xx)"
   ]
  },
  {
   "cell_type": "code",
   "execution_count": 3,
   "id": "6c903ade",
   "metadata": {},
   "outputs": [
    {
     "name": "stdout",
     "output_type": "stream",
     "text": [
      "THE NUMBER OF COLUMNS IS : 3\n"
     ]
    }
   ],
   "source": [
    "# shape[1] IS USED TO FIND THE NUMBER OF COLUMNS IN A DATAFRAME .\n",
    "\n",
    "import pandas as pd\n",
    "ww = { \"A\" : [12,14,16,18,20]  , \"B\" : [30,28,26,24,22] , \"A*B\" : [360,392,416,432,440] }\n",
    "xx = pd.DataFrame ( data=ww )\n",
    "yy = xx.shape[1]\n",
    "print( \"THE NUMBER OF COLUMNS IS :\" , yy )"
   ]
  },
  {
   "cell_type": "code",
   "execution_count": 4,
   "id": "7cc143c4",
   "metadata": {},
   "outputs": [
    {
     "name": "stdout",
     "output_type": "stream",
     "text": [
      "THE NUMBER OF ROWS IS : 5\n"
     ]
    }
   ],
   "source": [
    "# shape[0] IS USED TO FIND THE NUMBER OF ROWS IN A DATAFRAME .\n",
    "\n",
    "import pandas as pd\n",
    "ww = { \"A\" : [12,14,16,18,20]  , \"B\" : [30,28,26,24,22] , \"A*B\" : [360,392,416,432,440] }\n",
    "xx = pd.DataFrame ( data=ww )\n",
    "zz = xx.shape[0]\n",
    "print( \"THE NUMBER OF ROWS IS :\" , zz )"
   ]
  },
  {
   "cell_type": "code",
   "execution_count": 5,
   "id": "74893637",
   "metadata": {},
   "outputs": [
    {
     "name": "stdout",
     "output_type": "stream",
     "text": [
      "(5, 3)\n"
     ]
    }
   ],
   "source": [
    "# shape IS USED TO FIND THE NUMBER OF ROWS AND COLUMNS IN A DATAFRAME .\n",
    "\n",
    "import pandas as pd\n",
    "ww = { \"A\" : [12,14,16,18,20]  , \"B\" : [30,28,26,24,22] , \"A*B\" : [360,392,416,432,440] }\n",
    "xx = pd.DataFrame ( data=ww )\n",
    "print( xx.shape )"
   ]
  },
  {
   "cell_type": "code",
   "execution_count": null,
   "id": "8507fe02",
   "metadata": {},
   "outputs": [],
   "source": []
  }
 ],
 "metadata": {
  "kernelspec": {
   "display_name": "Python 3 (ipykernel)",
   "language": "python",
   "name": "python3"
  },
  "language_info": {
   "codemirror_mode": {
    "name": "ipython",
    "version": 3
   },
   "file_extension": ".py",
   "mimetype": "text/x-python",
   "name": "python",
   "nbconvert_exporter": "python",
   "pygments_lexer": "ipython3",
   "version": "3.10.9"
  }
 },
 "nbformat": 4,
 "nbformat_minor": 5
}
