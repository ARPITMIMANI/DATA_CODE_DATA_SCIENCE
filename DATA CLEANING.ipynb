{
 "cells": [
  {
   "cell_type": "code",
   "execution_count": 1,
   "id": "e88ae01b",
   "metadata": {},
   "outputs": [
    {
     "name": "stdout",
     "output_type": "stream",
     "text": [
      "    Duration Average_Pulse Max_Pulse  Calorie_Burnage  Hours_Work  Hours_Sleep\n",
      "0       30.0            80       120            240.0        10.0          7.0\n",
      "1       45.0            85       120            250.0        10.0          7.0\n",
      "2       45.0            90       130            260.0         8.0          7.0\n",
      "3       60.0            95       130            270.0         8.0          7.0\n",
      "4       60.0           100       140            280.0         0.0          7.0\n",
      "5        NaN           NaN       NaN              NaN         NaN          NaN\n",
      "6       60.0           105       140            290.0         7.0          8.0\n",
      "7       60.0           110       145            300.0         7.0          8.0\n",
      "8       45.0           NaN        AF              NaN         8.0          8.0\n",
      "9       45.0           115       145            310.0         8.0          8.0\n",
      "10      60.0           120       150            320.0         0.0          8.0\n",
      "11      60.0         9 000       130              NaN         NaN          8.0\n",
      "12      45.0           125       150            330.0         8.0          8.0\n"
     ]
    }
   ],
   "source": [
    "# LOAD THE DATA FROM THE CSV FILE \"UNCLEAN_DATA.csv\" INTO THE DATA FRAME .\n",
    "\n",
    "import pandas as pd\n",
    "xyz = pd.read_csv(\"UNCLEAN_DATA.csv\")\n",
    "print ( xyz.to_string() )"
   ]
  },
  {
   "cell_type": "code",
   "execution_count": 2,
   "id": "570bc67c",
   "metadata": {},
   "outputs": [
    {
     "name": "stdout",
     "output_type": "stream",
     "text": [
      "    Duration Average_Pulse Max_Pulse  Calorie_Burnage  Hours_Work  Hours_Sleep\n",
      "0       30.0            80       120            240.0        10.0          7.0\n",
      "1       45.0            85       120            250.0        10.0          7.0\n",
      "2       45.0            90       130            260.0         8.0          7.0\n",
      "3       60.0            95       130            270.0         8.0          7.0\n",
      "4       60.0           100       140            280.0         0.0          7.0\n",
      "5        NaN           NaN       NaN              NaN         NaN          NaN\n",
      "6       60.0           105       140            290.0         7.0          8.0\n",
      "7       60.0           110       145            300.0         7.0          8.0\n",
      "8       45.0           NaN        AF              NaN         8.0          8.0\n",
      "9       45.0           115       145            310.0         8.0          8.0\n",
      "10      60.0           120       150            320.0         0.0          8.0\n",
      "11      60.0         9 000       130              NaN         NaN          8.0\n",
      "12      45.0           125       150            330.0         8.0          8.0\n"
     ]
    }
   ],
   "source": [
    "import pandas as pd\n",
    "xyz = pd.read_csv( \"UNCLEAN_DATA.csv\" , header=0 , sep=\",\" ) \n",
    "print ( xyz.to_string() )"
   ]
  },
  {
   "cell_type": "code",
   "execution_count": 3,
   "id": "1bc3b207",
   "metadata": {},
   "outputs": [
    {
     "name": "stdout",
     "output_type": "stream",
     "text": [
      "   Duration Average_Pulse Max_Pulse  Calorie_Burnage  Hours_Work  Hours_Sleep\n",
      "0      30.0            80       120            240.0        10.0          7.0\n",
      "1      45.0            85       120            250.0        10.0          7.0\n",
      "2      45.0            90       130            260.0         8.0          7.0\n",
      "3      60.0            95       130            270.0         8.0          7.0\n",
      "4      60.0           100       140            280.0         0.0          7.0\n"
     ]
    }
   ],
   "source": [
    "# head() RETURNS THE TOP N ROWS IN THE DATA FRAME .\n",
    "\n",
    "import pandas as pd\n",
    "xyz = pd.read_csv( \"UNCLEAN_DATA.csv\" , header=0 , sep=\",\" ) \n",
    "print ( xyz.head() )"
   ]
  },
  {
   "cell_type": "code",
   "execution_count": 4,
   "id": "af0ed613",
   "metadata": {},
   "outputs": [
    {
     "name": "stdout",
     "output_type": "stream",
     "text": [
      "    Duration Average_Pulse Max_Pulse  Calorie_Burnage  Hours_Work  Hours_Sleep\n",
      "8       45.0           NaN        AF              NaN         8.0          8.0\n",
      "9       45.0           115       145            310.0         8.0          8.0\n",
      "10      60.0           120       150            320.0         0.0          8.0\n",
      "11      60.0         9 000       130              NaN         NaN          8.0\n",
      "12      45.0           125       150            330.0         8.0          8.0\n"
     ]
    }
   ],
   "source": [
    "# tail() RETURNS THE BOTTOM N ROWS IN THE DATA FRAME .\n",
    "\n",
    "import pandas as pd\n",
    "xyz = pd.read_csv( \"UNCLEAN_DATA.csv\" , header=0 , sep=\",\" ) \n",
    "print ( xyz.tail() )"
   ]
  },
  {
   "cell_type": "code",
   "execution_count": 5,
   "id": "db6306a2",
   "metadata": {},
   "outputs": [
    {
     "name": "stdout",
     "output_type": "stream",
     "text": [
      "    Duration Average_Pulse Max_Pulse  Calorie_Burnage  Hours_Work  Hours_Sleep\n",
      "0       30.0            80       120            240.0        10.0          7.0\n",
      "1       45.0            85       120            250.0        10.0          7.0\n",
      "2       45.0            90       130            260.0         8.0          7.0\n",
      "3       60.0            95       130            270.0         8.0          7.0\n",
      "4       60.0           100       140            280.0         0.0          7.0\n",
      "6       60.0           105       140            290.0         7.0          8.0\n",
      "7       60.0           110       145            300.0         7.0          8.0\n",
      "9       45.0           115       145            310.0         8.0          8.0\n",
      "10      60.0           120       150            320.0         0.0          8.0\n",
      "12      45.0           125       150            330.0         8.0          8.0\n"
     ]
    }
   ],
   "source": [
    "# dropna() REMOVES THE BLANK ROWS . \n",
    "\n",
    "import pandas as pd\n",
    "xyz = pd.read_csv( \"UNCLEAN_DATA.csv\" , header=0 , sep=\",\" ) \n",
    "xyz.dropna ( axis=0 , inplace=True )\n",
    "print(xyz)"
   ]
  },
  {
   "cell_type": "code",
   "execution_count": 6,
   "id": "5eca7d4a",
   "metadata": {},
   "outputs": [
    {
     "name": "stdout",
     "output_type": "stream",
     "text": [
      "<class 'pandas.core.frame.DataFrame'>\n",
      "Int64Index: 10 entries, 0 to 12\n",
      "Data columns (total 6 columns):\n",
      " #   Column           Non-Null Count  Dtype  \n",
      "---  ------           --------------  -----  \n",
      " 0   Duration         10 non-null     float64\n",
      " 1   Average_Pulse    10 non-null     object \n",
      " 2   Max_Pulse        10 non-null     object \n",
      " 3   Calorie_Burnage  10 non-null     float64\n",
      " 4   Hours_Work       10 non-null     float64\n",
      " 5   Hours_Sleep      10 non-null     float64\n",
      "dtypes: float64(4), object(2)\n",
      "memory usage: 560.0+ bytes\n",
      "None\n"
     ]
    }
   ],
   "source": [
    "''' \n",
    "\n",
    "DATA CAN BE SPLITED INTO 3 MAIN CATEGORIES : \n",
    "\n",
    "1. NUMERICAL : IT CONTAINS INTO DISCRETE VALUES LIKE WHOLE NUMBERS \n",
    "AND CONTINUOUS VALUES LIKE NUMBERS WITH DECIMAL NUMBERS ALSO .\n",
    "\n",
    "2. CATEGORICAL : IT CONTAINS THE VALUES THAT CANNOT BE UP AGAINST EACH OTHER \n",
    "LIKE GROUPS OF COLOURS AND FRUITS .\n",
    "\n",
    "3. ORDINAL : IT CONTAINS VALUES THAT ARE RELATED TO EACH OTHER \n",
    "LIKE SCHOOL GRADES WHERE A IS BETTER THAN B.\n",
    "\n",
    "'''\n",
    "\n",
    "# info() IS USED TO CHECK THE DATA TYPES OF ALL COLUMNS IN A DATAFRAME .\n",
    "\n",
    "print ( xyz.info() )"
   ]
  },
  {
   "cell_type": "code",
   "execution_count": 7,
   "id": "fb5fe5d7",
   "metadata": {},
   "outputs": [
    {
     "name": "stdout",
     "output_type": "stream",
     "text": [
      "<class 'pandas.core.frame.DataFrame'>\n",
      "Int64Index: 10 entries, 0 to 12\n",
      "Data columns (total 6 columns):\n",
      " #   Column           Non-Null Count  Dtype  \n",
      "---  ------           --------------  -----  \n",
      " 0   Duration         10 non-null     float64\n",
      " 1   Average_Pulse    10 non-null     float64\n",
      " 2   Max_Pulse        10 non-null     float64\n",
      " 3   Calorie_Burnage  10 non-null     float64\n",
      " 4   Hours_Work       10 non-null     float64\n",
      " 5   Hours_Sleep      10 non-null     float64\n",
      "dtypes: float64(6)\n",
      "memory usage: 560.0 bytes\n",
      "None\n"
     ]
    }
   ],
   "source": [
    "# astype() IS USED TO CONVERT FROM ONE DATA TYPE TO ANOTHER DATA TYPE .\n",
    "# CONVERT THE COLUMNS \"Average_Pulse\" AND \"Max_Pulse\" INTO float64 .\n",
    "\n",
    "xyz[\"Average_Pulse\"] = xyz[\"Average_Pulse\"].astype(float)\n",
    "xyz[\"Max_Pulse\"] = xyz[\"Max_Pulse\"].astype(float)\n",
    "print ( xyz.info() )"
   ]
  },
  {
   "cell_type": "code",
   "execution_count": 8,
   "id": "b77b8128",
   "metadata": {},
   "outputs": [
    {
     "name": "stdout",
     "output_type": "stream",
     "text": [
      "    Duration  Average_Pulse  Max_Pulse  Calorie_Burnage  Hours_Work  Hours_Sleep\n",
      "0       30.0           80.0      120.0            240.0        10.0          7.0\n",
      "1       45.0           85.0      120.0            250.0        10.0          7.0\n",
      "2       45.0           90.0      130.0            260.0         8.0          7.0\n",
      "3       60.0           95.0      130.0            270.0         8.0          7.0\n",
      "4       60.0          100.0      140.0            280.0         0.0          7.0\n",
      "6       60.0          105.0      140.0            290.0         7.0          8.0\n",
      "7       60.0          110.0      145.0            300.0         7.0          8.0\n",
      "9       45.0          115.0      145.0            310.0         8.0          8.0\n",
      "10      60.0          120.0      150.0            320.0         0.0          8.0\n",
      "12      45.0          125.0      150.0            330.0         8.0          8.0\n"
     ]
    }
   ],
   "source": [
    "print ( xyz.to_string() )"
   ]
  },
  {
   "cell_type": "code",
   "execution_count": 9,
   "id": "f19067ce",
   "metadata": {},
   "outputs": [
    {
     "name": "stdout",
     "output_type": "stream",
     "text": [
      "        Duration  Average_Pulse   Max_Pulse  Calorie_Burnage  Hours_Work  \\\n",
      "count  10.000000      10.000000   10.000000        10.000000   10.000000   \n",
      "mean   51.000000     102.500000  137.000000       285.000000    6.600000   \n",
      "std    10.488088      15.138252   11.352924        30.276504    3.627059   \n",
      "min    30.000000      80.000000  120.000000       240.000000    0.000000   \n",
      "25%    45.000000      91.250000  130.000000       262.500000    7.000000   \n",
      "50%    52.500000     102.500000  140.000000       285.000000    8.000000   \n",
      "75%    60.000000     113.750000  145.000000       307.500000    8.000000   \n",
      "max    60.000000     125.000000  150.000000       330.000000   10.000000   \n",
      "\n",
      "       Hours_Sleep  \n",
      "count    10.000000  \n",
      "mean      7.500000  \n",
      "std       0.527046  \n",
      "min       7.000000  \n",
      "25%       7.000000  \n",
      "50%       7.500000  \n",
      "75%       8.000000  \n",
      "max       8.000000  \n"
     ]
    }
   ],
   "source": [
    "# describe() IS USED TO SUMMARIZE DATA IN A DATAFRAME .\n",
    "\n",
    "print ( xyz.describe() )"
   ]
  },
  {
   "cell_type": "code",
   "execution_count": null,
   "id": "a2b775c6",
   "metadata": {},
   "outputs": [],
   "source": []
  }
 ],
 "metadata": {
  "kernelspec": {
   "display_name": "Python 3 (ipykernel)",
   "language": "python",
   "name": "python3"
  },
  "language_info": {
   "codemirror_mode": {
    "name": "ipython",
    "version": 3
   },
   "file_extension": ".py",
   "mimetype": "text/x-python",
   "name": "python",
   "nbconvert_exporter": "python",
   "pygments_lexer": "ipython3",
   "version": "3.10.9"
  }
 },
 "nbformat": 4,
 "nbformat_minor": 5
}
