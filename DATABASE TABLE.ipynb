{
 "cells": [
  {
   "cell_type": "code",
   "execution_count": 1,
   "id": "12c7f76a",
   "metadata": {},
   "outputs": [
    {
     "name": "stdout",
     "output_type": "stream",
     "text": [
      "[102, 104, 106, 108, 110, 112, 114, 116, 118, 120]\n"
     ]
    }
   ],
   "source": [
    "# DATA : IT IS A COLLECTION OF INFORMATION .\n",
    "# THERE ARE 2 TYPES OF DATA : STRUCTURED DATA AND UNSTRUCTURED DATA .\n",
    "\n",
    "# EXAMPLE OF STRUCTURE DATA\n",
    "\n",
    "xyz = [ 102 , 104 , 106 , 108 , 110 , 112 , 114 , 116 , 118 , 120 ]\n",
    "print(xyz)"
   ]
  },
  {
   "cell_type": "code",
   "execution_count": null,
   "id": "61492fc0",
   "metadata": {},
   "outputs": [],
   "source": []
  }
 ],
 "metadata": {
  "kernelspec": {
   "display_name": "Python 3 (ipykernel)",
   "language": "python",
   "name": "python3"
  },
  "language_info": {
   "codemirror_mode": {
    "name": "ipython",
    "version": 3
   },
   "file_extension": ".py",
   "mimetype": "text/x-python",
   "name": "python",
   "nbconvert_exporter": "python",
   "pygments_lexer": "ipython3",
   "version": "3.10.9"
  }
 },
 "nbformat": 4,
 "nbformat_minor": 5
}
