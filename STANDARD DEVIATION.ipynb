{
 "cells": [
  {
   "cell_type": "code",
   "execution_count": 1,
   "id": "013f5f3c",
   "metadata": {},
   "outputs": [
    {
     "name": "stdout",
     "output_type": "stream",
     "text": [
      "   Duration  Average_Pulse  Max_Pulse  Calorie_Burnage  Hours_Work  Hours_Sleep\n",
      "0        30             80        120              240          10            7\n",
      "1        30             85        120              250          10            7\n",
      "2        45             90        130              260           8            7\n",
      "3        45             95        130              270           8            7\n",
      "4        45            100        140              280           0            7\n",
      "5        60            105        140              290           7            8\n",
      "6        60            110        145              300           7            8\n",
      "7        60            115        145              310           8            8\n",
      "8        75            120        150              320           0            8\n",
      "9        75            125        150              330           8            8\n"
     ]
    }
   ],
   "source": [
    "'''\n",
    "\n",
    "STANDARD DEVIATION (SD) : IT IS A NUMBER THAT DESCRIBES HOW SPREAD OUT ARE THE OBSERVATIONS .\n",
    "\n",
    "LOW STANDARD DEVIATION MEANS MOST OF THE NUMBERS ARE CLOSER TO THE MEAN OR AVERAGER VALUE \n",
    "THAT IS NUMBERS ARE SPREAD OUT OVER A NARROW RANGE .\n",
    "\n",
    "HIGH STANDARD DEVIATION MEANS MOST OF THE NUMBERS ARE FAR FROM THE MEAN OR AVERAGER VALUE \n",
    "THAT IS NUMBERS ARE SPREAD OUT OVER A WIDER RANGE .\n",
    "\n",
    "'''\n",
    "\n",
    "# LOAD THE DATA FROM THE CSV FILE \"EXERCISE_DATA.csv\" INTO THE DATAFRAME .\n",
    "\n",
    "import pandas as pd \n",
    "xx = pd.read_csv ( \"EXERCISE_DATA.csv\" , header=0 , sep=\",\" )\n",
    "print ( xx.to_string() )"
   ]
  },
  {
   "cell_type": "code",
   "execution_count": 2,
   "id": "929f5096",
   "metadata": {},
   "outputs": [
    {
     "name": "stdout",
     "output_type": "stream",
     "text": [
      "Duration           15.370426\n",
      "Average_Pulse      14.361407\n",
      "Max_Pulse          10.770330\n",
      "Calorie_Burnage    28.722813\n",
      "Hours_Work          3.440930\n",
      "Hours_Sleep         0.500000\n",
      "dtype: float64\n"
     ]
    }
   ],
   "source": [
    "# CALCULATE THE STANDARD DEVIATION OF ALL COLUMNS OF THE CSV FILE \"EXERCISE_DATA.csv\" .\n",
    "\n",
    "import pandas as pd\n",
    "import numpy as np\n",
    "xx = pd.read_csv ( \"EXERCISE_DATA.csv\" , header=0 , sep=\",\" )\n",
    "yy = np.std(xx)\n",
    "print(yy)"
   ]
  },
  {
   "cell_type": "code",
   "execution_count": 3,
   "id": "9a009364",
   "metadata": {},
   "outputs": [
    {
     "name": "stdout",
     "output_type": "stream",
     "text": [
      "Duration           0.292770\n",
      "Average_Pulse      0.140111\n",
      "Max_Pulse          0.078616\n",
      "Calorie_Burnage    0.100782\n",
      "Hours_Work         0.521353\n",
      "Hours_Sleep        0.066667\n",
      "dtype: float64\n"
     ]
    },
    {
     "name": "stderr",
     "output_type": "stream",
     "text": [
      "C:\\Users\\ARPIT-MIMANI\\anaconda3\\lib\\site-packages\\numpy\\core\\fromnumeric.py:3430: FutureWarning: In a future version, DataFrame.mean(axis=None) will return a scalar mean over the entire DataFrame. To retain the old behavior, use 'frame.mean(axis=0)' or just 'frame.mean()'\n",
      "  return mean(axis=axis, dtype=dtype, out=out, **kwargs)\n"
     ]
    }
   ],
   "source": [
    "'''\n",
    "COEFFICIENT OF VARIANCE (CV) : IT IS USED TO GIVE AN IDEA OF THE SCOPE OF THE STANDARD DEVIATION \n",
    "WHICH MEANS HOW LARGE IS THE STANDARD DEVIATION .\n",
    "'''\n",
    "\n",
    "# MATHEMATICAL FORMULA : COEFFICIENT OF VARIANCE = STANARD DEVIATION / MEAN  .\n",
    "\n",
    "# CALCULATE THE COEFFICIENT OF VARIANCE OF ALL COLUMNS OF THE CSV FILE \"EXERCISE_DATA.csv\" .\n",
    "\n",
    "import pandas as pd\n",
    "import numpy as np\n",
    "xx = pd.read_csv ( \"EXERCISE_DATA.csv\" , header=0 , sep=\",\" )\n",
    "zz = np.std(xx) / np.mean(xx)\n",
    "print(zz)"
   ]
  },
  {
   "cell_type": "code",
   "execution_count": null,
   "id": "469b8428",
   "metadata": {},
   "outputs": [],
   "source": []
  }
 ],
 "metadata": {
  "kernelspec": {
   "display_name": "Python 3 (ipykernel)",
   "language": "python",
   "name": "python3"
  },
  "language_info": {
   "codemirror_mode": {
    "name": "ipython",
    "version": 3
   },
   "file_extension": ".py",
   "mimetype": "text/x-python",
   "name": "python",
   "nbconvert_exporter": "python",
   "pygments_lexer": "ipython3",
   "version": "3.10.9"
  }
 },
 "nbformat": 4,
 "nbformat_minor": 5
}
