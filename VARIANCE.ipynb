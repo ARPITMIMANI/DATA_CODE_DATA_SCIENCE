{
 "cells": [
  {
   "cell_type": "code",
   "execution_count": 1,
   "id": "9183cf49",
   "metadata": {},
   "outputs": [
    {
     "name": "stdout",
     "output_type": "stream",
     "text": [
      "   Duration  Average_Pulse  Max_Pulse  Calorie_Burnage  Hours_Work  Hours_Sleep\n",
      "0        30             80        120              240          10            7\n",
      "1        30             85        120              250          10            7\n",
      "2        45             90        130              260           8            7\n",
      "3        45             95        130              270           8            7\n",
      "4        45            100        140              280           0            7\n",
      "5        60            105        140              290           7            8\n",
      "6        60            110        145              300           7            8\n",
      "7        60            115        145              310           8            8\n",
      "8        75            120        150              320           0            8\n",
      "9        75            125        150              330           8            8\n"
     ]
    }
   ],
   "source": [
    "# LOAD THE DATA FROM THE CSV FILE \"EXERCISE_DATA.csv\" INTO THE DATAFRAME .\n",
    "\n",
    "import pandas as pd \n",
    "xx = pd.read_csv ( \"EXERCISE_DATA.csv\" , header=0 , sep=\",\" )\n",
    "print ( xx.to_string() )"
   ]
  },
  {
   "cell_type": "code",
   "execution_count": 2,
   "id": "6ea8ae61",
   "metadata": {},
   "outputs": [
    {
     "name": "stdout",
     "output_type": "stream",
     "text": [
      "Duration           236.25\n",
      "Average_Pulse      206.25\n",
      "Max_Pulse          116.00\n",
      "Calorie_Burnage    825.00\n",
      "Hours_Work          11.84\n",
      "Hours_Sleep          0.25\n",
      "dtype: float64\n"
     ]
    }
   ],
   "source": [
    "# VARIANCE : IT IS USED TO INDICATE HOW SPREAD OUT ARE THE VALUES .\n",
    "# MATHEMATICAL FORMULA : VARIANCE = STANDARD DEVIATION * STANDARD DEVIATION .\n",
    "\n",
    "# CALCULATE THE VARIANCE OF THE \"Average_Pulse\" MATHEMATICALLY.\n",
    "\n",
    "'''\n",
    "STEPS INVOLVED IN THE CALCULATION OF VARIANCE MATHEMATICALLY .\n",
    "\n",
    "STEP 1 : FIND THE MEAN OF ALL VALUES .\n",
    "\n",
    "( 80 + 85 + 90 + 95 + 100 + 105 + 110 + 115 + 120 + 125 ) / 10\n",
    "= 1025 / 10\n",
    "= 102.5\n",
    "\n",
    "STEP 2 : FIND THE DIFFERENCE FROM THE MEAN FOR EACH VALUE .\n",
    "\n",
    "80 - 102.5 = -22.5\n",
    "85 - 102.5 = -17.5\n",
    "90 - 102.5 = -12.5\n",
    "95 - 102.5 = -7.5\n",
    "100 - 102.5 = -2.5\n",
    "105 - 102.5 = +2.5\n",
    "110 - 102.5 = +7.5\n",
    "115 - 102.5 = +12.5\n",
    "120 - 102.5 = +17.5\n",
    "125 - 102.5 = +22.5\n",
    "\n",
    "STEP 3 : FIND THE SQUARE VALUE FOR EACH DIFFERENCE .\n",
    "\n",
    "-22.5 ^ 2 = 506.25\n",
    "-17.5 ^ 2 = 306.25\n",
    "-12.5 ^ 2 = 156.25\n",
    "-7.5 ^ 2 = 56.25\n",
    "-2.5 ^ 2 = 6.25\n",
    "+2.5 ^ 2 = 6.25\n",
    "+7.5 ^ 2 = 56.25\n",
    "+12.5 ^ 2 = 156.25\n",
    "+17.5 ^ 2 = 306.25\n",
    "+22.5 ^ 2 = 506.25\n",
    "\n",
    "STEP 4 : FIND THE AVERAGE OF ALL SQUARED VALUES .\n",
    "\n",
    "( 506.25 + 306.25 + 156.25 + 56.25 + 6.25 + 6.25 + 56.25 + 156.25 + 306.25 + 506.25 ) / 10\n",
    "= 2062.5 / 10\n",
    "= 206.25\n",
    "\n",
    "SO THE VARIANCE IS 206.25\n",
    "'''\n",
    "\n",
    "# CALCULATE THE VARIANCE OF ALL COLUMNS OF THE CSV FILE \"EXERCISE_DATA.csv\" USING PYTHON .\n",
    "\n",
    "import pandas as pd\n",
    "import numpy as np\n",
    "xx = pd.read_csv ( \"EXERCISE_DATA.csv\" , header=0 , sep=\",\" )\n",
    "yy = np.var(xx)\n",
    "print(yy)"
   ]
  },
  {
   "cell_type": "code",
   "execution_count": null,
   "id": "daa5c822",
   "metadata": {},
   "outputs": [],
   "source": []
  }
 ],
 "metadata": {
  "kernelspec": {
   "display_name": "Python 3 (ipykernel)",
   "language": "python",
   "name": "python3"
  },
  "language_info": {
   "codemirror_mode": {
    "name": "ipython",
    "version": 3
   },
   "file_extension": ".py",
   "mimetype": "text/x-python",
   "name": "python",
   "nbconvert_exporter": "python",
   "pygments_lexer": "ipython3",
   "version": "3.10.9"
  }
 },
 "nbformat": 4,
 "nbformat_minor": 5
}
